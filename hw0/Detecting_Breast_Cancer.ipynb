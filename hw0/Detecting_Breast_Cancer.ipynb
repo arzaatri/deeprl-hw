{
  "nbformat": 4,
  "nbformat_minor": 0,
  "metadata": {
    "colab": {
      "name": "Detecting Breast Cancer",
      "provenance": [],
      "collapsed_sections": []
    },
    "kernelspec": {
      "name": "python3",
      "display_name": "Python 3"
    },
    "language_info": {
      "name": "python"
    }
  },
  "cells": [
    {
      "cell_type": "markdown",
      "metadata": {
        "id": "YPI8xLReJiw6"
      },
      "source": [
        "# Detecting Breast Cancer\n",
        "\n",
        "One interesting application of machine learning is in the area of medical diagnoses. Implement Neural Network in python to classify the data into Benign or Malignant for the Wisconsin Diagnostic Breast Cancer (WDBC) dataset. \n",
        "\n",
        "### Things to keep in mind: \n",
        "* How will you choose the features? \n",
        "* How will you train, validate, and test your model?\n",
        "* How will you overcome overfitting?\n",
        "\n",
        "### Write-up\n",
        "In your write-up, please attach training curves, final losses, and visualizations of errors made by the trained model, along with a description of the methods/tricks you tried to improve performance.\n"
      ]
    },
    {
      "cell_type": "code",
      "metadata": {
        "id": "KT_BTBDmzHoS"
      },
      "source": [
        "import numpy as np\n",
        "import pandas as pd\n",
        "\n",
        "import torch"
      ],
      "execution_count": null,
      "outputs": []
    },
    {
      "cell_type": "code",
      "metadata": {
        "id": "qIkw-BFhzRMb"
      },
      "source": [
        "DATASET_URL = 'http://archive.ics.uci.edu/ml/machine-learning-databases/breast-cancer-wisconsin/breast-cancer-wisconsin.data'\n",
        "COLUMN_NAMES = [\n",
        "  'Sample code number',\n",
        "  'Clump Thickness',\n",
        "  'Uniformity of Cell Size',\n",
        "  'Uniformity of Cell Shape',\n",
        "  'Marginal Adhesion',\n",
        "  'Single Epithelial Cell Size',\n",
        "  'Bare Nuclei',\n",
        "  'Bland Chromatin',\n",
        "  'Normal Nucleoli',\n",
        "  'Mitoses',\n",
        "  'Class',\n",
        "]\n",
        "dataset = pd.read_csv(DATASET_URL, names=COLUMN_NAMES)"
      ],
      "execution_count": null,
      "outputs": []
    },
    {
      "cell_type": "markdown",
      "metadata": {
        "id": "pWfRoHDPIcAj"
      },
      "source": [
        "## Dataset description\n",
        "\n",
        "\n",
        "|  Attribute               |     \t \tDomain |\n",
        "|--- | ---|\n",
        "|   1. Sample code number |           \tid number|\n",
        "|   2. Clump Thickness     |          \t1 - 10|\n",
        "|   3. Uniformity of Cell Size |      \t1 - 10|\n",
        "|   4. Uniformity of Cell Shape |     \t1 - 10|\n",
        "|   5. Marginal Adhesion         |    \t1 - 10|\n",
        "|   6. Single Epithelial Cell Size |  \t1 - 10|\n",
        "|   7. Bare Nuclei       |            \t\t1 - 10\n",
        "|   8. Bland Chromatin  |             \t\t1 - 10\n",
        "|   9. Normal Nucleoli |              \t\t1 - 10\n",
        "|  10. Mitoses   |                    \t\t1 - 10\n",
        "|  11. Class:    |                    \t\t(2 for benign, 4 for malignant)|"
      ]
    },
    {
      "cell_type": "code",
      "metadata": {
        "colab": {
          "base_uri": "https://localhost:8080/",
          "height": 238
        },
        "id": "dR4jNCQmzczk",
        "outputId": "8364bcdb-f9d2-47f3-b48e-afb8030b6c78"
      },
      "source": [
        "dataset.head()"
      ],
      "execution_count": null,
      "outputs": [
        {
          "output_type": "execute_result",
          "data": {
            "text/html": [
              "<div>\n",
              "<style scoped>\n",
              "    .dataframe tbody tr th:only-of-type {\n",
              "        vertical-align: middle;\n",
              "    }\n",
              "\n",
              "    .dataframe tbody tr th {\n",
              "        vertical-align: top;\n",
              "    }\n",
              "\n",
              "    .dataframe thead th {\n",
              "        text-align: right;\n",
              "    }\n",
              "</style>\n",
              "<table border=\"1\" class=\"dataframe\">\n",
              "  <thead>\n",
              "    <tr style=\"text-align: right;\">\n",
              "      <th></th>\n",
              "      <th>Sample code number</th>\n",
              "      <th>Clump Thickness</th>\n",
              "      <th>Uniformity of Cell Size</th>\n",
              "      <th>Uniformity of Cell Shape</th>\n",
              "      <th>Marginal Adhesion</th>\n",
              "      <th>Single Epithelial Cell Size</th>\n",
              "      <th>Bare Nuclei</th>\n",
              "      <th>Bland Chromatin</th>\n",
              "      <th>Normal Nucleoli</th>\n",
              "      <th>Mitoses</th>\n",
              "      <th>Class</th>\n",
              "    </tr>\n",
              "  </thead>\n",
              "  <tbody>\n",
              "    <tr>\n",
              "      <th>0</th>\n",
              "      <td>1000025</td>\n",
              "      <td>5</td>\n",
              "      <td>1</td>\n",
              "      <td>1</td>\n",
              "      <td>1</td>\n",
              "      <td>2</td>\n",
              "      <td>1</td>\n",
              "      <td>3</td>\n",
              "      <td>1</td>\n",
              "      <td>1</td>\n",
              "      <td>2</td>\n",
              "    </tr>\n",
              "    <tr>\n",
              "      <th>1</th>\n",
              "      <td>1002945</td>\n",
              "      <td>5</td>\n",
              "      <td>4</td>\n",
              "      <td>4</td>\n",
              "      <td>5</td>\n",
              "      <td>7</td>\n",
              "      <td>10</td>\n",
              "      <td>3</td>\n",
              "      <td>2</td>\n",
              "      <td>1</td>\n",
              "      <td>2</td>\n",
              "    </tr>\n",
              "    <tr>\n",
              "      <th>2</th>\n",
              "      <td>1015425</td>\n",
              "      <td>3</td>\n",
              "      <td>1</td>\n",
              "      <td>1</td>\n",
              "      <td>1</td>\n",
              "      <td>2</td>\n",
              "      <td>2</td>\n",
              "      <td>3</td>\n",
              "      <td>1</td>\n",
              "      <td>1</td>\n",
              "      <td>2</td>\n",
              "    </tr>\n",
              "    <tr>\n",
              "      <th>3</th>\n",
              "      <td>1016277</td>\n",
              "      <td>6</td>\n",
              "      <td>8</td>\n",
              "      <td>8</td>\n",
              "      <td>1</td>\n",
              "      <td>3</td>\n",
              "      <td>4</td>\n",
              "      <td>3</td>\n",
              "      <td>7</td>\n",
              "      <td>1</td>\n",
              "      <td>2</td>\n",
              "    </tr>\n",
              "    <tr>\n",
              "      <th>4</th>\n",
              "      <td>1017023</td>\n",
              "      <td>4</td>\n",
              "      <td>1</td>\n",
              "      <td>1</td>\n",
              "      <td>3</td>\n",
              "      <td>2</td>\n",
              "      <td>1</td>\n",
              "      <td>3</td>\n",
              "      <td>1</td>\n",
              "      <td>1</td>\n",
              "      <td>2</td>\n",
              "    </tr>\n",
              "  </tbody>\n",
              "</table>\n",
              "</div>"
            ],
            "text/plain": [
              "   Sample code number  Clump Thickness  ...  Mitoses  Class\n",
              "0             1000025                5  ...        1      2\n",
              "1             1002945                5  ...        1      2\n",
              "2             1015425                3  ...        1      2\n",
              "3             1016277                6  ...        1      2\n",
              "4             1017023                4  ...        1      2\n",
              "\n",
              "[5 rows x 11 columns]"
            ]
          },
          "metadata": {},
          "execution_count": 3
        }
      ]
    },
    {
      "cell_type": "code",
      "metadata": {
        "id": "BHWqQzEyISgp"
      },
      "source": [
        "# Normalize your dataset, and split your dataset between test, train, and validation"
      ],
      "execution_count": null,
      "outputs": []
    },
    {
      "cell_type": "code",
      "metadata": {
        "id": "8pmPKtEmH9Zq"
      },
      "source": [
        "# Define you model here"
      ],
      "execution_count": null,
      "outputs": []
    },
    {
      "cell_type": "code",
      "metadata": {
        "id": "ozjO8kqmIBoJ"
      },
      "source": [
        "# Train your model"
      ],
      "execution_count": null,
      "outputs": []
    },
    {
      "cell_type": "code",
      "metadata": {
        "id": "MyTLKGY3IDgM"
      },
      "source": [
        "# Test your model "
      ],
      "execution_count": null,
      "outputs": []
    }
  ]
}