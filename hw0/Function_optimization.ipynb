{
  "nbformat": 4,
  "nbformat_minor": 0,
  "metadata": {
    "colab": {
      "name": "Function optimization",
      "provenance": [],
      "collapsed_sections": []
    },
    "kernelspec": {
      "name": "python3",
      "display_name": "Python 3"
    },
    "language_info": {
      "name": "python"
    }
  },
  "cells": [
    {
      "cell_type": "code",
      "metadata": {
        "id": "_-j9LyYOb0Pl"
      },
      "source": [
        "import numpy as np\n",
        "\n",
        "def find_function_local_minima(fn, n_dimensions):\n",
        "    \"\"\"\n",
        "    Create a function that can find an approximate minima in a given\n",
        "    vector function fn that takes an n_dimension vector as an input and gives\n",
        "    a scalar valued output. Treat the function fn as a black box; you can query \n",
        "    it but you do not have any other information about it (More specifically,\n",
        "    you cannot take the gradient of this function).\n",
        "    \"\"\"\n",
        "    # TODO: your code here.\n",
        "\n",
        "    # TODO: Change this line to the proper return value\n",
        "    return np.zeros(n_dimensions)"
      ],
      "execution_count": null,
      "outputs": []
    },
    {
      "cell_type": "code",
      "metadata": {
        "id": "-aC18NMIzi_C"
      },
      "source": [
        "# Testing code\n",
        "# testing_matrix = np.diag([1,2,3,4])\n",
        "n_dim = 4\n",
        "\n",
        "# Generate a positive semidefinite symmetric, real matrix with full rank.\n",
        "random_matrix = np.random.rand(n_dim, n_dim)\n",
        "testing_matrix = (random_matrix + random_matrix.T)/2 # Make it symmetric\n",
        "eigenvalues, eigenvectors = np.linalg.eig(testing_matrix)\n",
        "\n",
        "while not np.all(np.isreal(eigenvectors)) or \\\n",
        "    not np.all((eigenvalues) > 0.) or \\\n",
        "    np.linalg.matrix_rank(testing_matrix) < n_dim:\n",
        "    random_matrix = np.random.rand(n_dim, n_dim)\n",
        "    testing_matrix = (random_matrix + random_matrix.T)/2 # Make it symmetric\n",
        "    eigenvalues, eigenvectors = np.linalg.eig(testing_matrix)\n",
        "\n",
        "max_eigvalue = np.max(eigenvalues)\n",
        "print(f\"The maximum eigenvalue is {max_eigvalue}\")\n",
        "print(f\"And the corresponding eigenvector is {eigenvectors[np.argmax(eigenvalues)]}\")\n",
        "\n",
        "print(f\"Thus, the found minima should be close to {-max_eigvalue}\")\n",
        "\n",
        "def testing_function(vector):\n",
        "    # Computes -w^T A w where w := x/||x||\n",
        "    # This function is maximized when x is an eigenvector of \n",
        "    normalized_vector = vector / (np.linalg.norm(vector) + 1e-9)\n",
        "    return -(normalized_vector.T @ testing_matrix @ normalized_vector)\n",
        "\n",
        "minima_vector, minima_value = find_function_local_minima(testing_function, n_dimensions=n_dim)\n",
        "\n",
        "print(f\"Found best vector: {minima_vector}\")\n",
        "print(f\"And the found value at minima: {minima_value}\")\n",
        "assert (np.abs(minima_value - (-max_eigvalue)) < 1e-2)"
      ],
      "execution_count": null,
      "outputs": []
    }
  ]
}